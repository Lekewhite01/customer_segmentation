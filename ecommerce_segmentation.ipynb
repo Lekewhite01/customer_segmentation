{
 "cells": [
  {
   "cell_type": "markdown",
   "id": "0d79a0a3-57fb-4aba-ace5-3105e8633415",
   "metadata": {},
   "source": [
    "# Ecommerce Customer Segmentation\n",
    "## About Dataset\n",
    "This is a Brazilian ecommerce public dataset of orders made at Olist Store. The dataset has information of 100k orders from 2016 to 2018 made at multiple marketplaces in Brazil. Its features allows viewing an order from multiple dimensions: from order status, price, payment and freight performance to customer location, product attributes and finally reviews written by customers. Also included, is a geolocation dataset that relates Brazilian zip codes to lat/lng coordinates.\n",
    "\n",
    "This is real commercial data, it has been anonymised, and references to the companies and partners in the review text have been replaced with the names of Game of Thrones great houses.\n",
    "\n"
   ]
  },
  {
   "cell_type": "markdown",
   "id": "987d43b0-a065-4e99-8a61-a7cdbc839a8a",
   "metadata": {
    "tags": []
   },
   "source": [
    "### Importing Required Libraries"
   ]
  },
  {
   "cell_type": "code",
   "execution_count": 119,
   "id": "8635d51b-e31a-452c-825f-27bf6a980bba",
   "metadata": {
    "tags": []
   },
   "outputs": [],
   "source": [
    "import os\n",
    "import re\n",
    "import glob\n",
    "import warnings\n",
    "import pandas as pd\n",
    "import numpy as np\n",
    "import plotly.express as px\n",
    "import matplotlib.pyplot as plt\n",
    "import seaborn as sns\n",
    "from scipy.stats.mstats import trimmed_var\n",
    "from sklearn.cluster import KMeans\n",
    "from sklearn.decomposition import PCA\n",
    "from sklearn.metrics import silhouette_score\n",
    "from sklearn.pipeline import make_pipeline\n",
    "from sklearn.preprocessing import StandardScaler\n",
    "from sklearn.utils.validation import check_is_fitted\n",
    "from sklearn.preprocessing import MinMaxScaler\n",
    "from sklearn.impute import SimpleImputer\n",
    "from sklearn.compose import ColumnTransformer\n",
    "from kneed import DataGenerator, KneeLocator\n",
    "warnings.filterwarnings('ignore')"
   ]
  },
  {
   "cell_type": "markdown",
   "id": "61afba74-577e-438c-973e-75c288fb3da0",
   "metadata": {},
   "source": [
    "### Loading the Data files"
   ]
  },
  {
   "cell_type": "code",
   "execution_count": 120,
   "id": "48a74437-ee9a-4322-a5b6-25c5a20883c4",
   "metadata": {
    "tags": []
   },
   "outputs": [],
   "source": [
    "# Specify the folder path and the regex pattern for file names\n",
    "folder_path = './data'\n",
    "file_pattern = '*.csv'  # Adjust the pattern as needed\n",
    "\n",
    "# Use glob to get a list of file paths that match the pattern\n",
    "file_paths = glob.glob(f'{folder_path}/{file_pattern}')\n",
    "\n",
    "# Create an empty list to store DataFrames\n",
    "dataframes = []\n",
    "\n",
    "# Loop through the file paths and read each CSV file into a DataFrame\n",
    "for file_path in file_paths:\n",
    "    # Extract the file name using regex\n",
    "    file_name = re.search(r'([^\\/]+)\\.csv', file_path).group(1)\n",
    "    \n",
    "    # Read the CSV file into a DataFrame\n",
    "    df = pd.read_csv(file_path)\n",
    "    \n",
    "    # Add a column with the file name to identify the source\n",
    "    # df['source_file'] = file_name\n",
    "    \n",
    "    # Append the DataFrame to the list\n",
    "    dataframes.append(df)"
   ]
  },
  {
   "cell_type": "code",
   "execution_count": 121,
   "id": "caee88e2-9824-4d98-a3dc-95870ddb6658",
   "metadata": {
    "tags": []
   },
   "outputs": [],
   "source": [
    "\"\"\"\n",
    "    There are nine (9) csv files in the data path.\n",
    "    So, there should also be nine (9) dataframes in the list of dataframes. \n",
    "\"\"\"\n",
    "assert(len(os.listdir(\"./data\")) == len(dataframes), \"Number of CSV files does not match the number of dataframes\")"
   ]
  },
  {
   "cell_type": "markdown",
   "id": "8ab37624-d21a-481d-9f06-ab3ab6f2ec9d",
   "metadata": {},
   "source": [
    "### Unpacking the list of dataframes"
   ]
  },
  {
   "cell_type": "code",
   "execution_count": 122,
   "id": "5b7236af-d912-4287-a1b7-bcc3704e6c2d",
   "metadata": {
    "tags": []
   },
   "outputs": [
    {
     "data": {
      "text/plain": [
       "['olist_sellers_dataset.csv',\n",
       " 'product_category_name_translation.csv',\n",
       " 'olist_orders_dataset.csv',\n",
       " 'olist_order_items_dataset.csv',\n",
       " 'olist_customers_dataset.csv',\n",
       " 'olist_geolocation_dataset.csv',\n",
       " 'olist_order_payments_dataset.csv',\n",
       " 'olist_order_reviews_dataset.csv',\n",
       " 'olist_products_dataset.csv']"
      ]
     },
     "execution_count": 122,
     "metadata": {},
     "output_type": "execute_result"
    }
   ],
   "source": [
    "# List the files in the order which there were read in with pandas for correct unpacking\n",
    "os.listdir(\"./data\")"
   ]
  },
  {
   "cell_type": "code",
   "execution_count": 123,
   "id": "b415920a-ccfb-4e40-a008-e5cd61be4c5b",
   "metadata": {
    "tags": []
   },
   "outputs": [],
   "source": [
    "# Assigning variables to each item in the list of dataframes for distinctiveness\n",
    "sellers_df, product_category_df, orders_df, order_items_df, customers_df, geolocation_df,\\\n",
    "order_payments_df, order_reviews_df, products_df = dataframes"
   ]
  },
  {
   "cell_type": "markdown",
   "id": "010d6961-ec23-45fd-9e4d-8621616ca5af",
   "metadata": {},
   "source": [
    "### Inspecting the DataFrames"
   ]
  },
  {
   "cell_type": "code",
   "execution_count": 124,
   "id": "da070f6b-2c83-4508-8122-6e5b7b83a34c",
   "metadata": {
    "tags": []
   },
   "outputs": [
    {
     "name": "stdout",
     "output_type": "stream",
     "text": [
      "<class 'pandas.core.frame.DataFrame'>\n",
      "RangeIndex: 3095 entries, 0 to 3094\n",
      "Data columns (total 4 columns):\n",
      " #   Column                  Non-Null Count  Dtype \n",
      "---  ------                  --------------  ----- \n",
      " 0   seller_id               3095 non-null   object\n",
      " 1   seller_zip_code_prefix  3095 non-null   int64 \n",
      " 2   seller_city             3095 non-null   object\n",
      " 3   seller_state            3095 non-null   object\n",
      "dtypes: int64(1), object(3)\n",
      "memory usage: 96.8+ KB\n"
     ]
    }
   ],
   "source": [
    "sellers_df.info()"
   ]
  },
  {
   "cell_type": "code",
   "execution_count": 125,
   "id": "cf0ea604-9744-47ff-806f-5a4094d50364",
   "metadata": {
    "tags": []
   },
   "outputs": [
    {
     "name": "stdout",
     "output_type": "stream",
     "text": [
      "<class 'pandas.core.frame.DataFrame'>\n",
      "RangeIndex: 71 entries, 0 to 70\n",
      "Data columns (total 2 columns):\n",
      " #   Column                         Non-Null Count  Dtype \n",
      "---  ------                         --------------  ----- \n",
      " 0   product_category_name          71 non-null     object\n",
      " 1   product_category_name_english  71 non-null     object\n",
      "dtypes: object(2)\n",
      "memory usage: 1.2+ KB\n"
     ]
    }
   ],
   "source": [
    "product_category_df.info()"
   ]
  },
  {
   "cell_type": "code",
   "execution_count": 126,
   "id": "2dd4cae7-f903-407f-bf59-2b55d20e6eba",
   "metadata": {
    "tags": []
   },
   "outputs": [
    {
     "name": "stdout",
     "output_type": "stream",
     "text": [
      "<class 'pandas.core.frame.DataFrame'>\n",
      "RangeIndex: 99441 entries, 0 to 99440\n",
      "Data columns (total 8 columns):\n",
      " #   Column                         Non-Null Count  Dtype \n",
      "---  ------                         --------------  ----- \n",
      " 0   order_id                       99441 non-null  object\n",
      " 1   customer_id                    99441 non-null  object\n",
      " 2   order_status                   99441 non-null  object\n",
      " 3   order_purchase_timestamp       99441 non-null  object\n",
      " 4   order_approved_at              99281 non-null  object\n",
      " 5   order_delivered_carrier_date   97658 non-null  object\n",
      " 6   order_delivered_customer_date  96476 non-null  object\n",
      " 7   order_estimated_delivery_date  99441 non-null  object\n",
      "dtypes: object(8)\n",
      "memory usage: 6.1+ MB\n"
     ]
    }
   ],
   "source": [
    "orders_df.info()"
   ]
  },
  {
   "cell_type": "code",
   "execution_count": 127,
   "id": "46717c45-e9c5-464b-b029-350d89ebeb4a",
   "metadata": {
    "tags": []
   },
   "outputs": [
    {
     "name": "stdout",
     "output_type": "stream",
     "text": [
      "<class 'pandas.core.frame.DataFrame'>\n",
      "RangeIndex: 112650 entries, 0 to 112649\n",
      "Data columns (total 7 columns):\n",
      " #   Column               Non-Null Count   Dtype  \n",
      "---  ------               --------------   -----  \n",
      " 0   order_id             112650 non-null  object \n",
      " 1   order_item_id        112650 non-null  int64  \n",
      " 2   product_id           112650 non-null  object \n",
      " 3   seller_id            112650 non-null  object \n",
      " 4   shipping_limit_date  112650 non-null  object \n",
      " 5   price                112650 non-null  float64\n",
      " 6   freight_value        112650 non-null  float64\n",
      "dtypes: float64(2), int64(1), object(4)\n",
      "memory usage: 6.0+ MB\n"
     ]
    }
   ],
   "source": [
    "order_items_df.info()"
   ]
  },
  {
   "cell_type": "code",
   "execution_count": 128,
   "id": "7cd2cf6c-c7fc-44e4-bbf4-1a54ed277b33",
   "metadata": {
    "tags": []
   },
   "outputs": [
    {
     "name": "stdout",
     "output_type": "stream",
     "text": [
      "<class 'pandas.core.frame.DataFrame'>\n",
      "RangeIndex: 99441 entries, 0 to 99440\n",
      "Data columns (total 5 columns):\n",
      " #   Column                    Non-Null Count  Dtype \n",
      "---  ------                    --------------  ----- \n",
      " 0   customer_id               99441 non-null  object\n",
      " 1   customer_unique_id        99441 non-null  object\n",
      " 2   customer_zip_code_prefix  99441 non-null  int64 \n",
      " 3   customer_city             99441 non-null  object\n",
      " 4   customer_state            99441 non-null  object\n",
      "dtypes: int64(1), object(4)\n",
      "memory usage: 3.8+ MB\n"
     ]
    }
   ],
   "source": [
    "customers_df.info()"
   ]
  },
  {
   "cell_type": "code",
   "execution_count": 129,
   "id": "2695a175-b7a1-4618-902f-a9dc8ff25ee7",
   "metadata": {
    "tags": []
   },
   "outputs": [
    {
     "name": "stdout",
     "output_type": "stream",
     "text": [
      "<class 'pandas.core.frame.DataFrame'>\n",
      "RangeIndex: 1000163 entries, 0 to 1000162\n",
      "Data columns (total 5 columns):\n",
      " #   Column                       Non-Null Count    Dtype  \n",
      "---  ------                       --------------    -----  \n",
      " 0   geolocation_zip_code_prefix  1000163 non-null  int64  \n",
      " 1   geolocation_lat              1000163 non-null  float64\n",
      " 2   geolocation_lng              1000163 non-null  float64\n",
      " 3   geolocation_city             1000163 non-null  object \n",
      " 4   geolocation_state            1000163 non-null  object \n",
      "dtypes: float64(2), int64(1), object(2)\n",
      "memory usage: 38.2+ MB\n"
     ]
    }
   ],
   "source": [
    "geolocation_df.info()"
   ]
  },
  {
   "cell_type": "code",
   "execution_count": 130,
   "id": "020bde40-5467-4404-8538-86f6210e2310",
   "metadata": {},
   "outputs": [
    {
     "name": "stdout",
     "output_type": "stream",
     "text": [
      "<class 'pandas.core.frame.DataFrame'>\n",
      "RangeIndex: 103886 entries, 0 to 103885\n",
      "Data columns (total 5 columns):\n",
      " #   Column                Non-Null Count   Dtype  \n",
      "---  ------                --------------   -----  \n",
      " 0   order_id              103886 non-null  object \n",
      " 1   payment_sequential    103886 non-null  int64  \n",
      " 2   payment_type          103886 non-null  object \n",
      " 3   payment_installments  103886 non-null  int64  \n",
      " 4   payment_value         103886 non-null  float64\n",
      "dtypes: float64(1), int64(2), object(2)\n",
      "memory usage: 4.0+ MB\n"
     ]
    }
   ],
   "source": [
    "order_payments_df.info()"
   ]
  },
  {
   "cell_type": "code",
   "execution_count": 131,
   "id": "b4c5ca9c-c873-4cc3-85c5-eff719430a52",
   "metadata": {
    "tags": []
   },
   "outputs": [
    {
     "name": "stdout",
     "output_type": "stream",
     "text": [
      "<class 'pandas.core.frame.DataFrame'>\n",
      "RangeIndex: 99224 entries, 0 to 99223\n",
      "Data columns (total 7 columns):\n",
      " #   Column                   Non-Null Count  Dtype \n",
      "---  ------                   --------------  ----- \n",
      " 0   review_id                99224 non-null  object\n",
      " 1   order_id                 99224 non-null  object\n",
      " 2   review_score             99224 non-null  int64 \n",
      " 3   review_comment_title     11568 non-null  object\n",
      " 4   review_comment_message   40977 non-null  object\n",
      " 5   review_creation_date     99224 non-null  object\n",
      " 6   review_answer_timestamp  99224 non-null  object\n",
      "dtypes: int64(1), object(6)\n",
      "memory usage: 5.3+ MB\n"
     ]
    }
   ],
   "source": [
    "order_reviews_df.info()"
   ]
  },
  {
   "cell_type": "code",
   "execution_count": 132,
   "id": "70a68dc7-ca30-4b83-a81e-3763dabaa810",
   "metadata": {
    "tags": []
   },
   "outputs": [
    {
     "name": "stdout",
     "output_type": "stream",
     "text": [
      "<class 'pandas.core.frame.DataFrame'>\n",
      "RangeIndex: 32951 entries, 0 to 32950\n",
      "Data columns (total 9 columns):\n",
      " #   Column                      Non-Null Count  Dtype  \n",
      "---  ------                      --------------  -----  \n",
      " 0   product_id                  32951 non-null  object \n",
      " 1   product_category_name       32341 non-null  object \n",
      " 2   product_name_lenght         32341 non-null  float64\n",
      " 3   product_description_lenght  32341 non-null  float64\n",
      " 4   product_photos_qty          32341 non-null  float64\n",
      " 5   product_weight_g            32949 non-null  float64\n",
      " 6   product_length_cm           32949 non-null  float64\n",
      " 7   product_height_cm           32949 non-null  float64\n",
      " 8   product_width_cm            32949 non-null  float64\n",
      "dtypes: float64(7), object(2)\n",
      "memory usage: 2.3+ MB\n"
     ]
    }
   ],
   "source": [
    "products_df.info()"
   ]
  },
  {
   "cell_type": "markdown",
   "id": "e72249df-81aa-46a5-a562-415ae985671c",
   "metadata": {},
   "source": [
    "### Merging all DataFrames into one"
   ]
  },
  {
   "cell_type": "code",
   "execution_count": 133,
   "id": "6e715e61-aa32-4b43-a39e-8fedf97147c8",
   "metadata": {
    "tags": []
   },
   "outputs": [],
   "source": [
    "\"\"\"\n",
    "    `products_df` and `product_category_df` have the column `product_category_name` in common so they can be merged.\n",
    "    An inner merge has been used to remove null entries.\n",
    "\"\"\"\n",
    "products_merged = pd.merge(products_df, product_category_df, on='product_category_name', how='inner')"
   ]
  },
  {
   "cell_type": "code",
   "execution_count": 134,
   "id": "5f565877-f98f-47fa-bc24-1fe17c4cc7ad",
   "metadata": {
    "tags": []
   },
   "outputs": [
    {
     "name": "stdout",
     "output_type": "stream",
     "text": [
      "<class 'pandas.core.frame.DataFrame'>\n",
      "RangeIndex: 32328 entries, 0 to 32327\n",
      "Data columns (total 10 columns):\n",
      " #   Column                         Non-Null Count  Dtype  \n",
      "---  ------                         --------------  -----  \n",
      " 0   product_id                     32328 non-null  object \n",
      " 1   product_category_name          32328 non-null  object \n",
      " 2   product_name_lenght            32328 non-null  float64\n",
      " 3   product_description_lenght     32328 non-null  float64\n",
      " 4   product_photos_qty             32328 non-null  float64\n",
      " 5   product_weight_g               32327 non-null  float64\n",
      " 6   product_length_cm              32327 non-null  float64\n",
      " 7   product_height_cm              32327 non-null  float64\n",
      " 8   product_width_cm               32327 non-null  float64\n",
      " 9   product_category_name_english  32328 non-null  object \n",
      "dtypes: float64(7), object(3)\n",
      "memory usage: 2.5+ MB\n"
     ]
    }
   ],
   "source": [
    "products_merged.info()"
   ]
  },
  {
   "cell_type": "code",
   "execution_count": 135,
   "id": "717763e5-ad18-43b8-a682-5f8c67c48977",
   "metadata": {
    "tags": []
   },
   "outputs": [
    {
     "data": {
      "text/html": [
       "<div>\n",
       "<style scoped>\n",
       "    .dataframe tbody tr th:only-of-type {\n",
       "        vertical-align: middle;\n",
       "    }\n",
       "\n",
       "    .dataframe tbody tr th {\n",
       "        vertical-align: top;\n",
       "    }\n",
       "\n",
       "    .dataframe thead th {\n",
       "        text-align: right;\n",
       "    }\n",
       "</style>\n",
       "<table border=\"1\" class=\"dataframe\">\n",
       "  <thead>\n",
       "    <tr style=\"text-align: right;\">\n",
       "      <th></th>\n",
       "      <th>product_id</th>\n",
       "      <th>product_category_name</th>\n",
       "      <th>product_name_lenght</th>\n",
       "      <th>product_description_lenght</th>\n",
       "      <th>product_photos_qty</th>\n",
       "      <th>product_weight_g</th>\n",
       "      <th>product_length_cm</th>\n",
       "      <th>product_height_cm</th>\n",
       "      <th>product_width_cm</th>\n",
       "      <th>product_category_name_english</th>\n",
       "    </tr>\n",
       "  </thead>\n",
       "  <tbody>\n",
       "    <tr>\n",
       "      <th>0</th>\n",
       "      <td>1e9e8ef04dbcff4541ed26657ea517e5</td>\n",
       "      <td>perfumaria</td>\n",
       "      <td>40.0</td>\n",
       "      <td>287.0</td>\n",
       "      <td>1.0</td>\n",
       "      <td>225.0</td>\n",
       "      <td>16.0</td>\n",
       "      <td>10.0</td>\n",
       "      <td>14.0</td>\n",
       "      <td>perfumery</td>\n",
       "    </tr>\n",
       "    <tr>\n",
       "      <th>1</th>\n",
       "      <td>6a2fb4dd53d2cdb88e0432f1284a004c</td>\n",
       "      <td>perfumaria</td>\n",
       "      <td>39.0</td>\n",
       "      <td>346.0</td>\n",
       "      <td>2.0</td>\n",
       "      <td>400.0</td>\n",
       "      <td>27.0</td>\n",
       "      <td>5.0</td>\n",
       "      <td>20.0</td>\n",
       "      <td>perfumery</td>\n",
       "    </tr>\n",
       "    <tr>\n",
       "      <th>2</th>\n",
       "      <td>0d009643171aee696f4733340bc2fdd0</td>\n",
       "      <td>perfumaria</td>\n",
       "      <td>52.0</td>\n",
       "      <td>150.0</td>\n",
       "      <td>1.0</td>\n",
       "      <td>422.0</td>\n",
       "      <td>21.0</td>\n",
       "      <td>16.0</td>\n",
       "      <td>18.0</td>\n",
       "      <td>perfumery</td>\n",
       "    </tr>\n",
       "    <tr>\n",
       "      <th>3</th>\n",
       "      <td>b1eae565a61935e0011ee7682fef9dc9</td>\n",
       "      <td>perfumaria</td>\n",
       "      <td>49.0</td>\n",
       "      <td>460.0</td>\n",
       "      <td>2.0</td>\n",
       "      <td>267.0</td>\n",
       "      <td>17.0</td>\n",
       "      <td>13.0</td>\n",
       "      <td>17.0</td>\n",
       "      <td>perfumery</td>\n",
       "    </tr>\n",
       "    <tr>\n",
       "      <th>4</th>\n",
       "      <td>8da90b37f0fb171b4877c124f965b1f6</td>\n",
       "      <td>perfumaria</td>\n",
       "      <td>56.0</td>\n",
       "      <td>733.0</td>\n",
       "      <td>3.0</td>\n",
       "      <td>377.0</td>\n",
       "      <td>18.0</td>\n",
       "      <td>13.0</td>\n",
       "      <td>15.0</td>\n",
       "      <td>perfumery</td>\n",
       "    </tr>\n",
       "  </tbody>\n",
       "</table>\n",
       "</div>"
      ],
      "text/plain": [
       "                         product_id product_category_name  \\\n",
       "0  1e9e8ef04dbcff4541ed26657ea517e5            perfumaria   \n",
       "1  6a2fb4dd53d2cdb88e0432f1284a004c            perfumaria   \n",
       "2  0d009643171aee696f4733340bc2fdd0            perfumaria   \n",
       "3  b1eae565a61935e0011ee7682fef9dc9            perfumaria   \n",
       "4  8da90b37f0fb171b4877c124f965b1f6            perfumaria   \n",
       "\n",
       "   product_name_lenght  product_description_lenght  product_photos_qty  \\\n",
       "0                 40.0                       287.0                 1.0   \n",
       "1                 39.0                       346.0                 2.0   \n",
       "2                 52.0                       150.0                 1.0   \n",
       "3                 49.0                       460.0                 2.0   \n",
       "4                 56.0                       733.0                 3.0   \n",
       "\n",
       "   product_weight_g  product_length_cm  product_height_cm  product_width_cm  \\\n",
       "0             225.0               16.0               10.0              14.0   \n",
       "1             400.0               27.0                5.0              20.0   \n",
       "2             422.0               21.0               16.0              18.0   \n",
       "3             267.0               17.0               13.0              17.0   \n",
       "4             377.0               18.0               13.0              15.0   \n",
       "\n",
       "  product_category_name_english  \n",
       "0                     perfumery  \n",
       "1                     perfumery  \n",
       "2                     perfumery  \n",
       "3                     perfumery  \n",
       "4                     perfumery  "
      ]
     },
     "execution_count": 135,
     "metadata": {},
     "output_type": "execute_result"
    }
   ],
   "source": [
    "products_merged.head()"
   ]
  },
  {
   "cell_type": "code",
   "execution_count": 136,
   "id": "be395d8b-3040-4236-8f79-fd42277b576d",
   "metadata": {
    "tags": []
   },
   "outputs": [],
   "source": [
    "\"\"\"\n",
    "    Keep only the English names of the product categories.\n",
    "\"\"\"\n",
    "\n",
    "unrequired_columns = [\"product_category_name\"]\n",
    "products_merged.drop(unrequired_columns, axis=1, inplace=True)\n",
    "\n",
    "# Rename English product categories\n",
    "products_merged.rename({\"product_category_name_english\": \"product_category\"}, axis=1, inplace=True)"
   ]
  },
  {
   "cell_type": "code",
   "execution_count": 137,
   "id": "248777a9-78e4-49d7-a8e1-557ea84845d1",
   "metadata": {
    "tags": []
   },
   "outputs": [
    {
     "data": {
      "text/html": [
       "<div>\n",
       "<style scoped>\n",
       "    .dataframe tbody tr th:only-of-type {\n",
       "        vertical-align: middle;\n",
       "    }\n",
       "\n",
       "    .dataframe tbody tr th {\n",
       "        vertical-align: top;\n",
       "    }\n",
       "\n",
       "    .dataframe thead th {\n",
       "        text-align: right;\n",
       "    }\n",
       "</style>\n",
       "<table border=\"1\" class=\"dataframe\">\n",
       "  <thead>\n",
       "    <tr style=\"text-align: right;\">\n",
       "      <th></th>\n",
       "      <th>product_id</th>\n",
       "      <th>product_name_lenght</th>\n",
       "      <th>product_description_lenght</th>\n",
       "      <th>product_photos_qty</th>\n",
       "      <th>product_weight_g</th>\n",
       "      <th>product_length_cm</th>\n",
       "      <th>product_height_cm</th>\n",
       "      <th>product_width_cm</th>\n",
       "      <th>product_category</th>\n",
       "    </tr>\n",
       "  </thead>\n",
       "  <tbody>\n",
       "    <tr>\n",
       "      <th>0</th>\n",
       "      <td>1e9e8ef04dbcff4541ed26657ea517e5</td>\n",
       "      <td>40.0</td>\n",
       "      <td>287.0</td>\n",
       "      <td>1.0</td>\n",
       "      <td>225.0</td>\n",
       "      <td>16.0</td>\n",
       "      <td>10.0</td>\n",
       "      <td>14.0</td>\n",
       "      <td>perfumery</td>\n",
       "    </tr>\n",
       "    <tr>\n",
       "      <th>1</th>\n",
       "      <td>6a2fb4dd53d2cdb88e0432f1284a004c</td>\n",
       "      <td>39.0</td>\n",
       "      <td>346.0</td>\n",
       "      <td>2.0</td>\n",
       "      <td>400.0</td>\n",
       "      <td>27.0</td>\n",
       "      <td>5.0</td>\n",
       "      <td>20.0</td>\n",
       "      <td>perfumery</td>\n",
       "    </tr>\n",
       "    <tr>\n",
       "      <th>2</th>\n",
       "      <td>0d009643171aee696f4733340bc2fdd0</td>\n",
       "      <td>52.0</td>\n",
       "      <td>150.0</td>\n",
       "      <td>1.0</td>\n",
       "      <td>422.0</td>\n",
       "      <td>21.0</td>\n",
       "      <td>16.0</td>\n",
       "      <td>18.0</td>\n",
       "      <td>perfumery</td>\n",
       "    </tr>\n",
       "    <tr>\n",
       "      <th>3</th>\n",
       "      <td>b1eae565a61935e0011ee7682fef9dc9</td>\n",
       "      <td>49.0</td>\n",
       "      <td>460.0</td>\n",
       "      <td>2.0</td>\n",
       "      <td>267.0</td>\n",
       "      <td>17.0</td>\n",
       "      <td>13.0</td>\n",
       "      <td>17.0</td>\n",
       "      <td>perfumery</td>\n",
       "    </tr>\n",
       "    <tr>\n",
       "      <th>4</th>\n",
       "      <td>8da90b37f0fb171b4877c124f965b1f6</td>\n",
       "      <td>56.0</td>\n",
       "      <td>733.0</td>\n",
       "      <td>3.0</td>\n",
       "      <td>377.0</td>\n",
       "      <td>18.0</td>\n",
       "      <td>13.0</td>\n",
       "      <td>15.0</td>\n",
       "      <td>perfumery</td>\n",
       "    </tr>\n",
       "  </tbody>\n",
       "</table>\n",
       "</div>"
      ],
      "text/plain": [
       "                         product_id  product_name_lenght  \\\n",
       "0  1e9e8ef04dbcff4541ed26657ea517e5                 40.0   \n",
       "1  6a2fb4dd53d2cdb88e0432f1284a004c                 39.0   \n",
       "2  0d009643171aee696f4733340bc2fdd0                 52.0   \n",
       "3  b1eae565a61935e0011ee7682fef9dc9                 49.0   \n",
       "4  8da90b37f0fb171b4877c124f965b1f6                 56.0   \n",
       "\n",
       "   product_description_lenght  product_photos_qty  product_weight_g  \\\n",
       "0                       287.0                 1.0             225.0   \n",
       "1                       346.0                 2.0             400.0   \n",
       "2                       150.0                 1.0             422.0   \n",
       "3                       460.0                 2.0             267.0   \n",
       "4                       733.0                 3.0             377.0   \n",
       "\n",
       "   product_length_cm  product_height_cm  product_width_cm product_category  \n",
       "0               16.0               10.0              14.0        perfumery  \n",
       "1               27.0                5.0              20.0        perfumery  \n",
       "2               21.0               16.0              18.0        perfumery  \n",
       "3               17.0               13.0              17.0        perfumery  \n",
       "4               18.0               13.0              15.0        perfumery  "
      ]
     },
     "execution_count": 137,
     "metadata": {},
     "output_type": "execute_result"
    }
   ],
   "source": [
    "products_merged.head()"
   ]
  },
  {
   "cell_type": "code",
   "execution_count": 138,
   "id": "59bafd61-552c-4a27-af75-5aee3ba483e5",
   "metadata": {
    "tags": []
   },
   "outputs": [],
   "source": [
    "\"\"\"\n",
    "    The other dataframes bear a unique id so they can all be merged into one with `products_merged`.\n",
    "\"\"\"\n",
    "df = pd.merge(orders_df, customers_df, on='customer_id')\n",
    "df = df.merge(order_items_df, on='order_id')\n",
    "df = df.merge(order_payments_df, on='order_id')\n",
    "df = df.merge(products_merged, on='product_id')\n",
    "df = df.merge(sellers_df, on='seller_id')"
   ]
  },
  {
   "cell_type": "code",
   "execution_count": 139,
   "id": "0d96d66e-44fc-4c74-9bbe-111bad68f3b1",
   "metadata": {
    "tags": []
   },
   "outputs": [
    {
     "data": {
      "text/html": [
       "<div>\n",
       "<style scoped>\n",
       "    .dataframe tbody tr th:only-of-type {\n",
       "        vertical-align: middle;\n",
       "    }\n",
       "\n",
       "    .dataframe tbody tr th {\n",
       "        vertical-align: top;\n",
       "    }\n",
       "\n",
       "    .dataframe thead th {\n",
       "        text-align: right;\n",
       "    }\n",
       "</style>\n",
       "<table border=\"1\" class=\"dataframe\">\n",
       "  <thead>\n",
       "    <tr style=\"text-align: right;\">\n",
       "      <th></th>\n",
       "      <th>order_id</th>\n",
       "      <th>customer_id</th>\n",
       "      <th>order_status</th>\n",
       "      <th>order_purchase_timestamp</th>\n",
       "      <th>order_approved_at</th>\n",
       "      <th>order_delivered_carrier_date</th>\n",
       "      <th>order_delivered_customer_date</th>\n",
       "      <th>order_estimated_delivery_date</th>\n",
       "      <th>customer_unique_id</th>\n",
       "      <th>customer_zip_code_prefix</th>\n",
       "      <th>...</th>\n",
       "      <th>product_description_lenght</th>\n",
       "      <th>product_photos_qty</th>\n",
       "      <th>product_weight_g</th>\n",
       "      <th>product_length_cm</th>\n",
       "      <th>product_height_cm</th>\n",
       "      <th>product_width_cm</th>\n",
       "      <th>product_category</th>\n",
       "      <th>seller_zip_code_prefix</th>\n",
       "      <th>seller_city</th>\n",
       "      <th>seller_state</th>\n",
       "    </tr>\n",
       "  </thead>\n",
       "  <tbody>\n",
       "    <tr>\n",
       "      <th>0</th>\n",
       "      <td>e481f51cbdc54678b7cc49136f2d6af7</td>\n",
       "      <td>9ef432eb6251297304e76186b10a928d</td>\n",
       "      <td>delivered</td>\n",
       "      <td>2017-10-02 10:56:33</td>\n",
       "      <td>2017-10-02 11:07:15</td>\n",
       "      <td>2017-10-04 19:55:00</td>\n",
       "      <td>2017-10-10 21:25:13</td>\n",
       "      <td>2017-10-18 00:00:00</td>\n",
       "      <td>7c396fd4830fd04220f754e42b4e5bff</td>\n",
       "      <td>3149</td>\n",
       "      <td>...</td>\n",
       "      <td>268.0</td>\n",
       "      <td>4.0</td>\n",
       "      <td>500.0</td>\n",
       "      <td>19.0</td>\n",
       "      <td>8.0</td>\n",
       "      <td>13.0</td>\n",
       "      <td>housewares</td>\n",
       "      <td>9350</td>\n",
       "      <td>maua</td>\n",
       "      <td>SP</td>\n",
       "    </tr>\n",
       "    <tr>\n",
       "      <th>1</th>\n",
       "      <td>e481f51cbdc54678b7cc49136f2d6af7</td>\n",
       "      <td>9ef432eb6251297304e76186b10a928d</td>\n",
       "      <td>delivered</td>\n",
       "      <td>2017-10-02 10:56:33</td>\n",
       "      <td>2017-10-02 11:07:15</td>\n",
       "      <td>2017-10-04 19:55:00</td>\n",
       "      <td>2017-10-10 21:25:13</td>\n",
       "      <td>2017-10-18 00:00:00</td>\n",
       "      <td>7c396fd4830fd04220f754e42b4e5bff</td>\n",
       "      <td>3149</td>\n",
       "      <td>...</td>\n",
       "      <td>268.0</td>\n",
       "      <td>4.0</td>\n",
       "      <td>500.0</td>\n",
       "      <td>19.0</td>\n",
       "      <td>8.0</td>\n",
       "      <td>13.0</td>\n",
       "      <td>housewares</td>\n",
       "      <td>9350</td>\n",
       "      <td>maua</td>\n",
       "      <td>SP</td>\n",
       "    </tr>\n",
       "    <tr>\n",
       "      <th>2</th>\n",
       "      <td>e481f51cbdc54678b7cc49136f2d6af7</td>\n",
       "      <td>9ef432eb6251297304e76186b10a928d</td>\n",
       "      <td>delivered</td>\n",
       "      <td>2017-10-02 10:56:33</td>\n",
       "      <td>2017-10-02 11:07:15</td>\n",
       "      <td>2017-10-04 19:55:00</td>\n",
       "      <td>2017-10-10 21:25:13</td>\n",
       "      <td>2017-10-18 00:00:00</td>\n",
       "      <td>7c396fd4830fd04220f754e42b4e5bff</td>\n",
       "      <td>3149</td>\n",
       "      <td>...</td>\n",
       "      <td>268.0</td>\n",
       "      <td>4.0</td>\n",
       "      <td>500.0</td>\n",
       "      <td>19.0</td>\n",
       "      <td>8.0</td>\n",
       "      <td>13.0</td>\n",
       "      <td>housewares</td>\n",
       "      <td>9350</td>\n",
       "      <td>maua</td>\n",
       "      <td>SP</td>\n",
       "    </tr>\n",
       "    <tr>\n",
       "      <th>3</th>\n",
       "      <td>128e10d95713541c87cd1a2e48201934</td>\n",
       "      <td>a20e8105f23924cd00833fd87daa0831</td>\n",
       "      <td>delivered</td>\n",
       "      <td>2017-08-15 18:29:31</td>\n",
       "      <td>2017-08-15 20:05:16</td>\n",
       "      <td>2017-08-17 15:28:33</td>\n",
       "      <td>2017-08-18 14:44:43</td>\n",
       "      <td>2017-08-28 00:00:00</td>\n",
       "      <td>3a51803cc0d012c3b5dc8b7528cb05f7</td>\n",
       "      <td>3366</td>\n",
       "      <td>...</td>\n",
       "      <td>268.0</td>\n",
       "      <td>4.0</td>\n",
       "      <td>500.0</td>\n",
       "      <td>19.0</td>\n",
       "      <td>8.0</td>\n",
       "      <td>13.0</td>\n",
       "      <td>housewares</td>\n",
       "      <td>9350</td>\n",
       "      <td>maua</td>\n",
       "      <td>SP</td>\n",
       "    </tr>\n",
       "    <tr>\n",
       "      <th>4</th>\n",
       "      <td>0e7e841ddf8f8f2de2bad69267ecfbcf</td>\n",
       "      <td>26c7ac168e1433912a51b924fbd34d34</td>\n",
       "      <td>delivered</td>\n",
       "      <td>2017-08-02 18:24:47</td>\n",
       "      <td>2017-08-02 18:43:15</td>\n",
       "      <td>2017-08-04 17:35:43</td>\n",
       "      <td>2017-08-07 18:30:01</td>\n",
       "      <td>2017-08-15 00:00:00</td>\n",
       "      <td>ef0996a1a279c26e7ecbd737be23d235</td>\n",
       "      <td>2290</td>\n",
       "      <td>...</td>\n",
       "      <td>268.0</td>\n",
       "      <td>4.0</td>\n",
       "      <td>500.0</td>\n",
       "      <td>19.0</td>\n",
       "      <td>8.0</td>\n",
       "      <td>13.0</td>\n",
       "      <td>housewares</td>\n",
       "      <td>9350</td>\n",
       "      <td>maua</td>\n",
       "      <td>SP</td>\n",
       "    </tr>\n",
       "  </tbody>\n",
       "</table>\n",
       "<p>5 rows × 33 columns</p>\n",
       "</div>"
      ],
      "text/plain": [
       "                           order_id                       customer_id  \\\n",
       "0  e481f51cbdc54678b7cc49136f2d6af7  9ef432eb6251297304e76186b10a928d   \n",
       "1  e481f51cbdc54678b7cc49136f2d6af7  9ef432eb6251297304e76186b10a928d   \n",
       "2  e481f51cbdc54678b7cc49136f2d6af7  9ef432eb6251297304e76186b10a928d   \n",
       "3  128e10d95713541c87cd1a2e48201934  a20e8105f23924cd00833fd87daa0831   \n",
       "4  0e7e841ddf8f8f2de2bad69267ecfbcf  26c7ac168e1433912a51b924fbd34d34   \n",
       "\n",
       "  order_status order_purchase_timestamp    order_approved_at  \\\n",
       "0    delivered      2017-10-02 10:56:33  2017-10-02 11:07:15   \n",
       "1    delivered      2017-10-02 10:56:33  2017-10-02 11:07:15   \n",
       "2    delivered      2017-10-02 10:56:33  2017-10-02 11:07:15   \n",
       "3    delivered      2017-08-15 18:29:31  2017-08-15 20:05:16   \n",
       "4    delivered      2017-08-02 18:24:47  2017-08-02 18:43:15   \n",
       "\n",
       "  order_delivered_carrier_date order_delivered_customer_date  \\\n",
       "0          2017-10-04 19:55:00           2017-10-10 21:25:13   \n",
       "1          2017-10-04 19:55:00           2017-10-10 21:25:13   \n",
       "2          2017-10-04 19:55:00           2017-10-10 21:25:13   \n",
       "3          2017-08-17 15:28:33           2017-08-18 14:44:43   \n",
       "4          2017-08-04 17:35:43           2017-08-07 18:30:01   \n",
       "\n",
       "  order_estimated_delivery_date                customer_unique_id  \\\n",
       "0           2017-10-18 00:00:00  7c396fd4830fd04220f754e42b4e5bff   \n",
       "1           2017-10-18 00:00:00  7c396fd4830fd04220f754e42b4e5bff   \n",
       "2           2017-10-18 00:00:00  7c396fd4830fd04220f754e42b4e5bff   \n",
       "3           2017-08-28 00:00:00  3a51803cc0d012c3b5dc8b7528cb05f7   \n",
       "4           2017-08-15 00:00:00  ef0996a1a279c26e7ecbd737be23d235   \n",
       "\n",
       "   customer_zip_code_prefix  ... product_description_lenght  \\\n",
       "0                      3149  ...                      268.0   \n",
       "1                      3149  ...                      268.0   \n",
       "2                      3149  ...                      268.0   \n",
       "3                      3366  ...                      268.0   \n",
       "4                      2290  ...                      268.0   \n",
       "\n",
       "  product_photos_qty  product_weight_g product_length_cm product_height_cm  \\\n",
       "0                4.0             500.0              19.0               8.0   \n",
       "1                4.0             500.0              19.0               8.0   \n",
       "2                4.0             500.0              19.0               8.0   \n",
       "3                4.0             500.0              19.0               8.0   \n",
       "4                4.0             500.0              19.0               8.0   \n",
       "\n",
       "  product_width_cm  product_category  seller_zip_code_prefix  seller_city  \\\n",
       "0             13.0        housewares                    9350         maua   \n",
       "1             13.0        housewares                    9350         maua   \n",
       "2             13.0        housewares                    9350         maua   \n",
       "3             13.0        housewares                    9350         maua   \n",
       "4             13.0        housewares                    9350         maua   \n",
       "\n",
       "  seller_state  \n",
       "0           SP  \n",
       "1           SP  \n",
       "2           SP  \n",
       "3           SP  \n",
       "4           SP  \n",
       "\n",
       "[5 rows x 33 columns]"
      ]
     },
     "execution_count": 139,
     "metadata": {},
     "output_type": "execute_result"
    }
   ],
   "source": [
    "df.head()"
   ]
  },
  {
   "cell_type": "code",
   "execution_count": 140,
   "id": "05fb21c4-31a7-4a07-9cd2-82836449658c",
   "metadata": {
    "tags": []
   },
   "outputs": [
    {
     "name": "stdout",
     "output_type": "stream",
     "text": [
      "<class 'pandas.core.frame.DataFrame'>\n",
      "RangeIndex: 115878 entries, 0 to 115877\n",
      "Data columns (total 33 columns):\n",
      " #   Column                         Non-Null Count   Dtype  \n",
      "---  ------                         --------------   -----  \n",
      " 0   order_id                       115878 non-null  object \n",
      " 1   customer_id                    115878 non-null  object \n",
      " 2   order_status                   115878 non-null  object \n",
      " 3   order_purchase_timestamp       115878 non-null  object \n",
      " 4   order_approved_at              115864 non-null  object \n",
      " 5   order_delivered_carrier_date   114673 non-null  object \n",
      " 6   order_delivered_customer_date  113383 non-null  object \n",
      " 7   order_estimated_delivery_date  115878 non-null  object \n",
      " 8   customer_unique_id             115878 non-null  object \n",
      " 9   customer_zip_code_prefix       115878 non-null  int64  \n",
      " 10  customer_city                  115878 non-null  object \n",
      " 11  customer_state                 115878 non-null  object \n",
      " 12  order_item_id                  115878 non-null  int64  \n",
      " 13  product_id                     115878 non-null  object \n",
      " 14  seller_id                      115878 non-null  object \n",
      " 15  shipping_limit_date            115878 non-null  object \n",
      " 16  price                          115878 non-null  float64\n",
      " 17  freight_value                  115878 non-null  float64\n",
      " 18  payment_sequential             115878 non-null  int64  \n",
      " 19  payment_type                   115878 non-null  object \n",
      " 20  payment_installments           115878 non-null  int64  \n",
      " 21  payment_value                  115878 non-null  float64\n",
      " 22  product_name_lenght            115878 non-null  float64\n",
      " 23  product_description_lenght     115878 non-null  float64\n",
      " 24  product_photos_qty             115878 non-null  float64\n",
      " 25  product_weight_g               115877 non-null  float64\n",
      " 26  product_length_cm              115877 non-null  float64\n",
      " 27  product_height_cm              115877 non-null  float64\n",
      " 28  product_width_cm               115877 non-null  float64\n",
      " 29  product_category               115878 non-null  object \n",
      " 30  seller_zip_code_prefix         115878 non-null  int64  \n",
      " 31  seller_city                    115878 non-null  object \n",
      " 32  seller_state                   115878 non-null  object \n",
      "dtypes: float64(10), int64(5), object(18)\n",
      "memory usage: 29.2+ MB\n"
     ]
    }
   ],
   "source": [
    "df.info()"
   ]
  },
  {
   "cell_type": "markdown",
   "id": "21689475-6003-4451-9d4b-18eb869a275c",
   "metadata": {},
   "source": [
    "### Feature Engineering/Data Wrangling"
   ]
  },
  {
   "cell_type": "code",
   "execution_count": 147,
   "id": "a484e990-7a7e-49b1-8f02-cc4dece26677",
   "metadata": {
    "tags": []
   },
   "outputs": [],
   "source": [
    "\"\"\"\n",
    "    From here on, I'll be retaining only customer demographics, order details, transactional/payment information,\n",
    "    and product information.\n",
    "\"\"\"\n",
    "\n",
    "required_columns = [\"customer_unique_id\", \"order_id\", \"order_status\", \"order_purchase_timestamp\", \"customer_zip_code_prefix\",\n",
    "                    \"customer_city\", \"customer_state\", \"price\", \"freight_value\", \"payment_sequential\", \"payment_type\",\n",
    "                    \"payment_installments\", \"payment_value\", \"product_category\"]\n",
    "main_df = df[required_columns]"
   ]
  },
  {
   "cell_type": "code",
   "execution_count": 148,
   "id": "d30c9c89-f133-4a3a-9463-9c8be18052f5",
   "metadata": {
    "tags": []
   },
   "outputs": [
    {
     "data": {
      "text/html": [
       "<div>\n",
       "<style scoped>\n",
       "    .dataframe tbody tr th:only-of-type {\n",
       "        vertical-align: middle;\n",
       "    }\n",
       "\n",
       "    .dataframe tbody tr th {\n",
       "        vertical-align: top;\n",
       "    }\n",
       "\n",
       "    .dataframe thead th {\n",
       "        text-align: right;\n",
       "    }\n",
       "</style>\n",
       "<table border=\"1\" class=\"dataframe\">\n",
       "  <thead>\n",
       "    <tr style=\"text-align: right;\">\n",
       "      <th></th>\n",
       "      <th>customer_unique_id</th>\n",
       "      <th>order_id</th>\n",
       "      <th>order_status</th>\n",
       "      <th>order_purchase_timestamp</th>\n",
       "      <th>customer_zip_code_prefix</th>\n",
       "      <th>customer_city</th>\n",
       "      <th>customer_state</th>\n",
       "      <th>price</th>\n",
       "      <th>freight_value</th>\n",
       "      <th>payment_sequential</th>\n",
       "      <th>payment_type</th>\n",
       "      <th>payment_installments</th>\n",
       "      <th>payment_value</th>\n",
       "      <th>product_category</th>\n",
       "    </tr>\n",
       "  </thead>\n",
       "  <tbody>\n",
       "    <tr>\n",
       "      <th>0</th>\n",
       "      <td>7c396fd4830fd04220f754e42b4e5bff</td>\n",
       "      <td>e481f51cbdc54678b7cc49136f2d6af7</td>\n",
       "      <td>delivered</td>\n",
       "      <td>2017-10-02 10:56:33</td>\n",
       "      <td>3149</td>\n",
       "      <td>sao paulo</td>\n",
       "      <td>SP</td>\n",
       "      <td>29.99</td>\n",
       "      <td>8.72</td>\n",
       "      <td>1</td>\n",
       "      <td>credit_card</td>\n",
       "      <td>1</td>\n",
       "      <td>18.12</td>\n",
       "      <td>housewares</td>\n",
       "    </tr>\n",
       "    <tr>\n",
       "      <th>1</th>\n",
       "      <td>7c396fd4830fd04220f754e42b4e5bff</td>\n",
       "      <td>e481f51cbdc54678b7cc49136f2d6af7</td>\n",
       "      <td>delivered</td>\n",
       "      <td>2017-10-02 10:56:33</td>\n",
       "      <td>3149</td>\n",
       "      <td>sao paulo</td>\n",
       "      <td>SP</td>\n",
       "      <td>29.99</td>\n",
       "      <td>8.72</td>\n",
       "      <td>3</td>\n",
       "      <td>voucher</td>\n",
       "      <td>1</td>\n",
       "      <td>2.00</td>\n",
       "      <td>housewares</td>\n",
       "    </tr>\n",
       "    <tr>\n",
       "      <th>2</th>\n",
       "      <td>7c396fd4830fd04220f754e42b4e5bff</td>\n",
       "      <td>e481f51cbdc54678b7cc49136f2d6af7</td>\n",
       "      <td>delivered</td>\n",
       "      <td>2017-10-02 10:56:33</td>\n",
       "      <td>3149</td>\n",
       "      <td>sao paulo</td>\n",
       "      <td>SP</td>\n",
       "      <td>29.99</td>\n",
       "      <td>8.72</td>\n",
       "      <td>2</td>\n",
       "      <td>voucher</td>\n",
       "      <td>1</td>\n",
       "      <td>18.59</td>\n",
       "      <td>housewares</td>\n",
       "    </tr>\n",
       "    <tr>\n",
       "      <th>3</th>\n",
       "      <td>3a51803cc0d012c3b5dc8b7528cb05f7</td>\n",
       "      <td>128e10d95713541c87cd1a2e48201934</td>\n",
       "      <td>delivered</td>\n",
       "      <td>2017-08-15 18:29:31</td>\n",
       "      <td>3366</td>\n",
       "      <td>sao paulo</td>\n",
       "      <td>SP</td>\n",
       "      <td>29.99</td>\n",
       "      <td>7.78</td>\n",
       "      <td>1</td>\n",
       "      <td>credit_card</td>\n",
       "      <td>3</td>\n",
       "      <td>37.77</td>\n",
       "      <td>housewares</td>\n",
       "    </tr>\n",
       "    <tr>\n",
       "      <th>4</th>\n",
       "      <td>ef0996a1a279c26e7ecbd737be23d235</td>\n",
       "      <td>0e7e841ddf8f8f2de2bad69267ecfbcf</td>\n",
       "      <td>delivered</td>\n",
       "      <td>2017-08-02 18:24:47</td>\n",
       "      <td>2290</td>\n",
       "      <td>sao paulo</td>\n",
       "      <td>SP</td>\n",
       "      <td>29.99</td>\n",
       "      <td>7.78</td>\n",
       "      <td>1</td>\n",
       "      <td>credit_card</td>\n",
       "      <td>1</td>\n",
       "      <td>37.77</td>\n",
       "      <td>housewares</td>\n",
       "    </tr>\n",
       "  </tbody>\n",
       "</table>\n",
       "</div>"
      ],
      "text/plain": [
       "                 customer_unique_id                          order_id  \\\n",
       "0  7c396fd4830fd04220f754e42b4e5bff  e481f51cbdc54678b7cc49136f2d6af7   \n",
       "1  7c396fd4830fd04220f754e42b4e5bff  e481f51cbdc54678b7cc49136f2d6af7   \n",
       "2  7c396fd4830fd04220f754e42b4e5bff  e481f51cbdc54678b7cc49136f2d6af7   \n",
       "3  3a51803cc0d012c3b5dc8b7528cb05f7  128e10d95713541c87cd1a2e48201934   \n",
       "4  ef0996a1a279c26e7ecbd737be23d235  0e7e841ddf8f8f2de2bad69267ecfbcf   \n",
       "\n",
       "  order_status order_purchase_timestamp  customer_zip_code_prefix  \\\n",
       "0    delivered      2017-10-02 10:56:33                      3149   \n",
       "1    delivered      2017-10-02 10:56:33                      3149   \n",
       "2    delivered      2017-10-02 10:56:33                      3149   \n",
       "3    delivered      2017-08-15 18:29:31                      3366   \n",
       "4    delivered      2017-08-02 18:24:47                      2290   \n",
       "\n",
       "  customer_city customer_state  price  freight_value  payment_sequential  \\\n",
       "0     sao paulo             SP  29.99           8.72                   1   \n",
       "1     sao paulo             SP  29.99           8.72                   3   \n",
       "2     sao paulo             SP  29.99           8.72                   2   \n",
       "3     sao paulo             SP  29.99           7.78                   1   \n",
       "4     sao paulo             SP  29.99           7.78                   1   \n",
       "\n",
       "  payment_type  payment_installments  payment_value product_category  \n",
       "0  credit_card                     1          18.12       housewares  \n",
       "1      voucher                     1           2.00       housewares  \n",
       "2      voucher                     1          18.59       housewares  \n",
       "3  credit_card                     3          37.77       housewares  \n",
       "4  credit_card                     1          37.77       housewares  "
      ]
     },
     "execution_count": 148,
     "metadata": {},
     "output_type": "execute_result"
    }
   ],
   "source": [
    "main_df.head()"
   ]
  },
  {
   "cell_type": "code",
   "execution_count": 149,
   "id": "fd618294-6fba-4822-9df6-89562765e3a3",
   "metadata": {
    "tags": []
   },
   "outputs": [
    {
     "name": "stdout",
     "output_type": "stream",
     "text": [
      "<class 'pandas.core.frame.DataFrame'>\n",
      "RangeIndex: 115878 entries, 0 to 115877\n",
      "Data columns (total 14 columns):\n",
      " #   Column                    Non-Null Count   Dtype  \n",
      "---  ------                    --------------   -----  \n",
      " 0   customer_unique_id        115878 non-null  object \n",
      " 1   order_id                  115878 non-null  object \n",
      " 2   order_status              115878 non-null  object \n",
      " 3   order_purchase_timestamp  115878 non-null  object \n",
      " 4   customer_zip_code_prefix  115878 non-null  int64  \n",
      " 5   customer_city             115878 non-null  object \n",
      " 6   customer_state            115878 non-null  object \n",
      " 7   price                     115878 non-null  float64\n",
      " 8   freight_value             115878 non-null  float64\n",
      " 9   payment_sequential        115878 non-null  int64  \n",
      " 10  payment_type              115878 non-null  object \n",
      " 11  payment_installments      115878 non-null  int64  \n",
      " 12  payment_value             115878 non-null  float64\n",
      " 13  product_category          115878 non-null  object \n",
      "dtypes: float64(3), int64(3), object(8)\n",
      "memory usage: 12.4+ MB\n"
     ]
    }
   ],
   "source": [
    "main_df.info()"
   ]
  },
  {
   "cell_type": "code",
   "execution_count": 150,
   "id": "0f9c7493-ee8c-4ef9-82cd-9e7b5a6535c2",
   "metadata": {
    "tags": []
   },
   "outputs": [],
   "source": [
    "# Correcting the data types across the dataframe\n",
    "main_df[\"order_purchase_timestamp\"] = pd.to_datetime(main_df[\"order_purchase_timestamp\"])\n",
    "\n",
    "# Converting zipcode prefix from int to string since I won't be aggregating on it.\n",
    "main_df[\"customer_zip_code_prefix\"] = main_df[\"customer_zip_code_prefix\"].astype(str)"
   ]
  },
  {
   "cell_type": "code",
   "execution_count": 151,
   "id": "4a1593d5-1d3e-4e1b-8889-701c51b6767f",
   "metadata": {
    "tags": []
   },
   "outputs": [
    {
     "name": "stdout",
     "output_type": "stream",
     "text": [
      "<class 'pandas.core.frame.DataFrame'>\n",
      "RangeIndex: 115878 entries, 0 to 115877\n",
      "Data columns (total 14 columns):\n",
      " #   Column                    Non-Null Count   Dtype         \n",
      "---  ------                    --------------   -----         \n",
      " 0   customer_unique_id        115878 non-null  object        \n",
      " 1   order_id                  115878 non-null  object        \n",
      " 2   order_status              115878 non-null  object        \n",
      " 3   order_purchase_timestamp  115878 non-null  datetime64[ns]\n",
      " 4   customer_zip_code_prefix  115878 non-null  object        \n",
      " 5   customer_city             115878 non-null  object        \n",
      " 6   customer_state            115878 non-null  object        \n",
      " 7   price                     115878 non-null  float64       \n",
      " 8   freight_value             115878 non-null  float64       \n",
      " 9   payment_sequential        115878 non-null  int64         \n",
      " 10  payment_type              115878 non-null  object        \n",
      " 11  payment_installments      115878 non-null  int64         \n",
      " 12  payment_value             115878 non-null  float64       \n",
      " 13  product_category          115878 non-null  object        \n",
      "dtypes: datetime64[ns](1), float64(3), int64(2), object(8)\n",
      "memory usage: 12.4+ MB\n"
     ]
    }
   ],
   "source": [
    "main_df.info()"
   ]
  },
  {
   "cell_type": "code",
   "execution_count": 152,
   "id": "0bc9b191-6a9f-4250-8cf5-2b8c30da9988",
   "metadata": {
    "tags": []
   },
   "outputs": [
    {
     "data": {
      "text/plain": [
       "'\\n    To examine the number of orders \\n'"
      ]
     },
     "execution_count": 152,
     "metadata": {},
     "output_type": "execute_result"
    }
   ],
   "source": [
    "\"\"\"\n",
    "    To examine the number of orders per year, per month, and average number of orders per day,\n",
    "    there is a need to engineer new features from the `order_purchase_timestamp` column\n",
    "\"\"\""
   ]
  },
  {
   "cell_type": "code",
   "execution_count": 146,
   "id": "d42f4860-e3a5-4a43-ab41-182d148db8ff",
   "metadata": {
    "tags": []
   },
   "outputs": [
    {
     "data": {
      "text/plain": [
       "customer_unique_id          94087\n",
       "order_status                    7\n",
       "order_purchase_timestamp    96720\n",
       "customer_zip_code_prefix    14927\n",
       "customer_city                4095\n",
       "customer_state                 27\n",
       "price                        5899\n",
       "freight_value                6977\n",
       "payment_sequential             29\n",
       "payment_type                    4\n",
       "payment_installments           24\n",
       "payment_value               28765\n",
       "product_category               71\n",
       "dtype: int64"
      ]
     },
     "execution_count": 146,
     "metadata": {},
     "output_type": "execute_result"
    }
   ],
   "source": [
    "# Check for cardinality\n",
    "main_df.nunique()"
   ]
  },
  {
   "cell_type": "code",
   "execution_count": 118,
   "id": "aae3d673-4ceb-4357-b7a0-06fee7c800c3",
   "metadata": {
    "tags": []
   },
   "outputs": [],
   "source": [
    "\"\"\"\n",
    "   `customer_unique_id` is the only high cardinality column whose presence holds no significance.\n",
    "   Therefore, it will be dropped.\n",
    "\"\"\"\n",
    "main_df.drop(\"customer_unique_id\", axis=1, inplace=True)"
   ]
  },
  {
   "cell_type": "code",
   "execution_count": null,
   "id": "88220189-aef4-4940-a616-1f3e150e0661",
   "metadata": {},
   "outputs": [],
   "source": []
  }
 ],
 "metadata": {
  "kernelspec": {
   "display_name": "Python 3 (ipykernel)",
   "language": "python",
   "name": "python3"
  },
  "language_info": {
   "codemirror_mode": {
    "name": "ipython",
    "version": 3
   },
   "file_extension": ".py",
   "mimetype": "text/x-python",
   "name": "python",
   "nbconvert_exporter": "python",
   "pygments_lexer": "ipython3",
   "version": "3.11.5"
  },
  "widgets": {
   "application/vnd.jupyter.widget-state+json": {
    "state": {},
    "version_major": 2,
    "version_minor": 0
   }
  }
 },
 "nbformat": 4,
 "nbformat_minor": 5
}
